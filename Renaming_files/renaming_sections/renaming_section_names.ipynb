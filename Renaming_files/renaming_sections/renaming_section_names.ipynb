{
 "cells": [
  {
   "cell_type": "code",
   "execution_count": 25,
   "id": "f36d3c65-9a72-418f-bad5-2a4376273610",
   "metadata": {},
   "outputs": [],
   "source": [
    "textfile = open(\"filenames.txt\")"
   ]
  },
  {
   "cell_type": "code",
   "execution_count": 26,
   "id": "43356fbf-bd69-4ea0-8690-a51cbb067ce6",
   "metadata": {},
   "outputs": [],
   "source": [
    "read = textfile.readlines() # this is more useful than .read() which gives one long string"
   ]
  },
  {
   "cell_type": "code",
   "execution_count": 27,
   "id": "e5b88abb-262d-44dc-9e39-fba3107c1d4b",
   "metadata": {},
   "outputs": [
    {
     "data": {
      "text/plain": [
       "['mID_image export_s001_006_012_alexa647_s1\\n',\n",
       " 'mID_image export_s001_006_012_alexa647_s2\\n',\n",
       " 'mID_image export_s001_006_012_alexa647_s3\\n']"
      ]
     },
     "execution_count": 27,
     "metadata": {},
     "output_type": "execute_result"
    }
   ],
   "source": [
    "read"
   ]
  },
  {
   "cell_type": "code",
   "execution_count": 40,
   "id": "2b2f7f1f-28b7-478f-a382-0dff5f00c4ae",
   "metadata": {},
   "outputs": [
    {
     "name": "stdout",
     "output_type": "stream",
     "text": [
      "s001\n",
      "mouseID-alexa647_s001\n",
      "s006\n",
      "mouseID-alexa647_s006\n",
      "s012\n",
      "mouseID-alexa647_s012\n"
     ]
    }
   ],
   "source": [
    "mystring = read[0]\n",
    "\n",
    "for mystring in read:\n",
    "    mystring = mystring[:-1]\n",
    "    mystring = mystring.split(\"_\")\n",
    "    scene = mystring[-1]\n",
    "    sectionnumbers = mystring[2:5]\n",
    "    mID = mystring[0]\n",
    "    #print(mid)\n",
    "    channel = mystring[-2]\n",
    "\n",
    "    #print(sectionnumbers)\n",
    "    #print(scene)\n",
    "    #print(mystring)\n",
    "\n",
    "    if scene == \"s1\":\n",
    "        snumber = sectionnumbers[0]\n",
    "\n",
    "    elif scene == \"s2\":\n",
    "        snumber = \"s\" + sectionnumbers[1]\n",
    "\n",
    "    elif scene == \"s3\":\n",
    "        snumber = \"s\" + sectionnumbers[2]\n",
    "\n",
    "    else:\n",
    "        snumber = \"not_defined\"\n",
    "    print(snumber) # here the s001 is assigned to s1\n",
    "\n",
    "    mouseID = \"mouse\" + mID[1:]\n",
    "\n",
    "    newstring = mouseID + \"-\" + channel + \"_\" + snumber\n",
    "    print(newstring)\n",
    "        "
   ]
  },
  {
   "cell_type": "code",
   "execution_count": null,
   "id": "a08b45db-2804-4bb9-9ba9-f048ab7e7a60",
   "metadata": {},
   "outputs": [],
   "source": [
    "mystring "
   ]
  },
  {
   "cell_type": "code",
   "execution_count": null,
   "id": "1f236e4e-d640-4713-8e4e-18652d2cab18",
   "metadata": {},
   "outputs": [],
   "source": [
    "mouseID_alexa647_s001"
   ]
  }
 ],
 "metadata": {
  "kernelspec": {
   "display_name": "Python 3 (ipykernel)",
   "language": "python",
   "name": "python3"
  },
  "language_info": {
   "codemirror_mode": {
    "name": "ipython",
    "version": 3
   },
   "file_extension": ".py",
   "mimetype": "text/x-python",
   "name": "python",
   "nbconvert_exporter": "python",
   "pygments_lexer": "ipython3",
   "version": "3.9.12"
  }
 },
 "nbformat": 4,
 "nbformat_minor": 5
}
