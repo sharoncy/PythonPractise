{
 "cells": [
  {
   "cell_type": "code",
   "execution_count": 2,
   "id": "7fe37750-d503-4e0e-873e-1e3a71d11b52",
   "metadata": {},
   "outputs": [],
   "source": [
    "import csv\n",
    "import pandas as pd\n",
    "import pydoc as doc\n",
    "import sys\n",
    "import matplotlib.pyplot as plt"
   ]
  },
  {
   "cell_type": "code",
   "execution_count": 3,
   "id": "1c2d4fd9-2f9b-4883-aa25-05cbd189f859",
   "metadata": {},
   "outputs": [],
   "source": [
    "csv =pd.read_csv(\"B_CKT-1-1-18-16_16_Anchorings_Final_damage_stats_intermediate.txt\", sep=\"\\t\")"
   ]
  },
  {
   "cell_type": "code",
   "execution_count": 9,
   "id": "d414f386-7d48-470b-b1a5-53d2785d8685",
   "metadata": {},
   "outputs": [],
   "source": [
    "mask = csv['Structure'] == 'Isocortex'\n",
    "region = csv[mask]"
   ]
  },
  {
   "cell_type": "code",
   "execution_count": 29,
   "id": "99c967e2-ca89-4f10-86c8-c2fe31bae477",
   "metadata": {},
   "outputs": [
    {
     "data": {
      "text/plain": [
       "223"
      ]
     },
     "execution_count": 29,
     "metadata": {},
     "output_type": "execute_result"
    }
   ],
   "source": [
    "28*7+2+25"
   ]
  },
  {
   "cell_type": "code",
   "execution_count": 25,
   "id": "51b4f0d8-a01c-45f8-8661-a9b7fffde10f",
   "metadata": {},
   "outputs": [
    {
     "data": {
      "text/plain": [
       "247"
      ]
     },
     "execution_count": 25,
     "metadata": {},
     "output_type": "execute_result"
    }
   ],
   "source": [
    "13*19"
   ]
  },
  {
   "cell_type": "code",
   "execution_count": 21,
   "id": "146e5dea-da76-4946-98fd-974cc3c279b1",
   "metadata": {},
   "outputs": [
    {
     "name": "stdout",
     "output_type": "stream",
     "text": [
      "the damaged percent is Total                                    0.328315\n",
      "020-CKT-1-NeuN-1-18-16_16-01.png        20.833333\n",
      "026-CKT-1-AB1-42-1-18-16_16-01.png       1.276596\n",
      "032-CKT-1-NeuN-1-18-16_16-02.png         1.101928\n",
      "035-CKT-1-Thionine-1-18-16-16-02.png     0.000000\n",
      "                                          ...    \n",
      "218-CKT-1-AB1-42-1-18-16_16-09.png       0.000000\n",
      "220-CKT-1-Iba1-1-18-16-16-09.png         0.000000\n",
      "221-CKT-1-GFAP-1-18-16-16-09.png         0.000000\n",
      "224-CKT-1-NeuN-1-18-16_16-18.png         0.000000\n",
      "227-CKT-1-Thionine-1-18-16-16-18.png     0.000000\n",
      "Length: 61, dtype: float64\n"
     ]
    }
   ],
   "source": [
    "region_sections = region.iloc[:,3:]\n",
    "not_applicable =  region_sections.iloc[0,:]\n",
    "damaged = region_sections.iloc[-1,:]\n",
    "total_counts = not_applicable + damaged\n",
    "percent_damaged = damaged / total_counts\n",
    "print(f\"the damaged percent is {percent_damaged * 100}\")"
   ]
  },
  {
   "cell_type": "code",
   "execution_count": 22,
   "id": "ba31d0fe-6a5e-4cae-8b69-38a345eefee0",
   "metadata": {},
   "outputs": [
    {
     "data": {
      "text/plain": [
       "Total                                   0.003283\n",
       "020-CKT-1-NeuN-1-18-16_16-01.png        0.208333\n",
       "026-CKT-1-AB1-42-1-18-16_16-01.png      0.012766\n",
       "032-CKT-1-NeuN-1-18-16_16-02.png        0.011019\n",
       "035-CKT-1-Thionine-1-18-16-16-02.png    0.000000\n",
       "                                          ...   \n",
       "218-CKT-1-AB1-42-1-18-16_16-09.png      0.000000\n",
       "220-CKT-1-Iba1-1-18-16-16-09.png        0.000000\n",
       "221-CKT-1-GFAP-1-18-16-16-09.png        0.000000\n",
       "224-CKT-1-NeuN-1-18-16_16-18.png        0.000000\n",
       "227-CKT-1-Thionine-1-18-16-16-18.png    0.000000\n",
       "Length: 61, dtype: float64"
      ]
     },
     "execution_count": 22,
     "metadata": {},
     "output_type": "execute_result"
    }
   ],
   "source": [
    "percent_damaged"
   ]
  },
  {
   "cell_type": "code",
   "execution_count": 44,
   "id": "b0465d22-45d0-44e7-8113-4bca78cab065",
   "metadata": {},
   "outputs": [],
   "source": [
    "sections = list(csv.columns)"
   ]
  },
  {
   "cell_type": "code",
   "execution_count": 45,
   "id": "4829278e-7e7c-406c-b76d-397f72e8b574",
   "metadata": {},
   "outputs": [
    {
     "name": "stdout",
     "output_type": "stream",
     "text": [
      "['ID', 'Structure', 'Status', 'Total', '020-CKT-1-NeuN-1-18-16_16-01.png', '026-CKT-1-AB1-42-1-18-16_16-01.png', '032-CKT-1-NeuN-1-18-16_16-02.png', '035-CKT-1-Thionine-1-18-16-16-02.png', '044-CKT-1-NeuN-1-18-16_16-03.png', '047-CKT-1-Thionine-1-18-16-16-03.png', '050-CKT-1-AB1-42-1-18-16_16-02.png', '052-CKT-1-Iba1-1-18-16-16-02.png', '053-CKT-1-GFAP-1-18-16-16-02.png', '056-CKT-1-NeuN-1-18-16_16-04.png', '059-CKT-1-Thionine-1-18-16-16-04.png', '068-CKT-1-NeuN-1-18-16_16-05.png', '071-CKT-1-Thionine-1-18-16-16-05.png', '074-CKT-1-AB1-42-1-18-16_16-03.png', '076-CKT-1-Iba1-1-18-16-16-03.png', '077-CKT-1-GFAP-1-18-16-16-03.png', '080-CKT-1-NeuN-1-18-16_16-06.png', '083-CKT-1-Thionine-1-18-16-16-06.png', '092-CKT-1-NeuN-1-18-16_16-07.png', '095-CKT-1-Thionine-1-18-16-16-07.png', '098-CKT-1-AB1-42-1-18-16_16-04.png', '100-CKT-1-Iba1-1-18-16-16-04.png', '101-CKT-1-GFAP-1-18-16-16-04.png', '104-CKT-1-NeuN-1-18-16_16-08.png', '107-CKT-1-Thionine-1-18-16-16-08.png', '116-CKT-1-NeuN-1-18-16_16-09.png', '119-CKT-1-Thionine-1-18-16-16-09.png', '122-CKT-1-AB1-42-1-18-16_16-05.png', '124-CKT-1-Iba1-1-18-16-16-05.png', '125-CKT-1-GFAP-1-18-16-16-05.png', '128-CKT-1-NeuN-1-18-16_16-10.png', '131-CKT-1-Thionine-1-18-16-16-10.png', '140-CKT-1-NeuN-1-18-16_16-11.png', '143-CKT-1-Thionine-1-18-16-16-11.png', '146-CKT-1-AB1-42-1-18-16_16-06.png', '148-CKT-1-Iba1-1-18-16-16-06.png', '149-CKT-1-GFAP-1-18-16-16-06.png', '152-CKT-1-NeuN-1-18-16_16-12.png', '155-CKT-1-Thionine-1-18-16-16-12.png', '164-CKT-1-NeuN-1-18-16_16-13.png', '167-CKT-1-Thionine-1-18-16-16-13.png', '170-CKT-1-AB1-42-1-18-16_16-07.png', '172-CKT-1-Iba1-1-18-16-16-07.png', '173-CKT-1-GFAP-1-18-16-16-07.png', '176-CKT-1-NeuN-1-18-16_16-14.png', '179-CKT-1-Thionine-1-18-16-16-14.png', '188-CKT-1-NeuN-1-18-16_16-15.png', '191-CKT-1-Thionine-1-18-16-16-15.png', '194-CKT-1-AB1-42-1-18-16_16-08.png', '196-CKT-1-Iba1-1-18-16-16-08.png', '197-CKT-1-GFAP-1-18-16-16-08.png', '200-CKT-1-NeuN-1-18-16_16-16.png', '203-CKT-1-Thionine-1-18-16-16-16.png', '212-CKT-1-NeuN-1-18-16_16-17.png', '215-CKT-1-Thionine-1-18-16-16-17.png', '218-CKT-1-AB1-42-1-18-16_16-09.png', '220-CKT-1-Iba1-1-18-16-16-09.png', '221-CKT-1-GFAP-1-18-16-16-09.png', '224-CKT-1-NeuN-1-18-16_16-18.png', '227-CKT-1-Thionine-1-18-16-16-18.png']\n"
     ]
    }
   ],
   "source": [
    "print(sections)"
   ]
  },
  {
   "cell_type": "code",
   "execution_count": 34,
   "id": "93f3c798-085a-4eb1-90e1-80c971b1ee53",
   "metadata": {},
   "outputs": [
    {
     "name": "stdout",
     "output_type": "stream",
     "text": [
      "0                    Total\n",
      "1                    Total\n",
      "2                    Total\n",
      "3                    Total\n",
      "4                    Total\n",
      "              ...         \n",
      "390    ventricular systems\n",
      "391    ventricular systems\n",
      "392    ventricular systems\n",
      "393    ventricular systems\n",
      "394    ventricular systems\n",
      "Name: Structure, Length: 395, dtype: object\n"
     ]
    }
   ],
   "source": [
    "structures = csv[\"Structure\"] # index into a row\n",
    "print(structures)"
   ]
  },
  {
   "cell_type": "code",
   "execution_count": 32,
   "id": "e337f109-68aa-4b84-bb89-b707e5414f1e",
   "metadata": {},
   "outputs": [
    {
     "name": "stdout",
     "output_type": "stream",
     "text": [
      "79.0\n"
     ]
    }
   ],
   "source": [
    "number_of_regions = 395/5\n",
    "print(number_of_regions)"
   ]
  },
  {
   "cell_type": "markdown",
   "id": "8bfbae20-4479-48da-8cf5-957e3da90dea",
   "metadata": {},
   "source": [
    "Goal: Calculate total damage per section"
   ]
  },
  {
   "cell_type": "code",
   "execution_count": null,
   "id": "15ea6e50-998e-4fc0-b11e-bf24be30a100",
   "metadata": {},
   "outputs": [],
   "source": []
  }
 ],
 "metadata": {
  "kernelspec": {
   "display_name": "Python 3 (ipykernel)",
   "language": "python",
   "name": "python3"
  },
  "language_info": {
   "codemirror_mode": {
    "name": "ipython",
    "version": 3
   },
   "file_extension": ".py",
   "mimetype": "text/x-python",
   "name": "python",
   "nbconvert_exporter": "python",
   "pygments_lexer": "ipython3",
   "version": "3.9.13"
  }
 },
 "nbformat": 4,
 "nbformat_minor": 5
}
